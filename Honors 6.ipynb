{
  "nbformat": 4,
  "nbformat_minor": 0,
  "metadata": {
    "colab": {
      "provenance": []
    },
    "kernelspec": {
      "name": "python3",
      "display_name": "Python 3"
    },
    "language_info": {
      "name": "python"
    }
  },
  "cells": [
    {
      "cell_type": "code",
      "execution_count": 5,
      "metadata": {
        "colab": {
          "base_uri": "https://localhost:8080/"
        },
        "id": "hxTG24koFHL1",
        "outputId": "021cb1ea-b89e-4acb-8b55-83cc5e7b6de8"
      },
      "outputs": [
        {
          "output_type": "stream",
          "name": "stdout",
          "text": [
            "Accuracy: 1.00\n",
            "Sentiment: negative\n"
          ]
        },
        {
          "output_type": "stream",
          "name": "stderr",
          "text": [
            "[nltk_data] Downloading package punkt to /root/nltk_data...\n",
            "[nltk_data]   Package punkt is already up-to-date!\n",
            "[nltk_data] Downloading package stopwords to /root/nltk_data...\n",
            "[nltk_data]   Package stopwords is already up-to-date!\n"
          ]
        }
      ],
      "source": [
        "import nltk\n",
        "from nltk.tokenize import word_tokenize\n",
        "from nltk.corpus import stopwords\n",
        "from sklearn.model_selection import train_test_split\n",
        "from sklearn.linear_model import LogisticRegression\n",
        "from sklearn.metrics import accuracy_score\n",
        "from sklearn.preprocessing import LabelEncoder\n",
        "\n",
        "# Download necessary NLTK resources\n",
        "nltk.download('punkt')\n",
        "nltk.download('stopwords')\n",
        "\n",
        "# Positive and negative words\n",
        "positive_words = ['good', 'great', 'happy', 'awesome', 'excellent', 'positive', 'joyful']\n",
        "negative_words = ['bad', 'sad', 'terrible', 'awful', 'negative', 'poor', 'unhappy']\n",
        "\n",
        "# Preprocess function\n",
        "def preprocess_text(text):\n",
        "    # Convert text to lowercase\n",
        "    text = text.lower()\n",
        "    # Tokenize the text into words\n",
        "    words = word_tokenize(text)\n",
        "    # Remove stopwords\n",
        "    stop_words = set(stopwords.words('english'))\n",
        "    words = [word for word in words if word.isalnum() and word not in stop_words]\n",
        "    return words\n",
        "\n",
        "def extract_features(text):\n",
        "    words = preprocess_text(text)\n",
        "    positive_count = sum(1 for word in words if word in positive_words)\n",
        "    negative_count = sum(1 for word in words if word in negative_words)\n",
        "    return [positive_count, negative_count]\n",
        "\n",
        "# Sample labeled documents\n",
        "documents = [\n",
        "    ('I am very happy today', 'positive'),\n",
        "    ('This is a terrible experience', 'negative'),\n",
        "    ('I am feeling great', 'positive'),\n",
        "    ('This movie is awful', 'negative'),\n",
        "    ('Such a positive vibe', 'positive'),\n",
        "    ('I hate this product', 'negative')\n",
        "]\n",
        "\n",
        "# Extract features and labels\n",
        "X = [extract_features(doc[0]) for doc in documents]\n",
        "y = [doc[1] for doc in documents]\n",
        "\n",
        "# Convert string labels to numeric labels\n",
        "label_encoder = LabelEncoder()\n",
        "y_encoded = label_encoder.fit_transform(y)\n",
        "\n",
        "# Split data into training and testing sets\n",
        "X_train, X_test, y_train, y_test = train_test_split(X, y_encoded, test_size=0.3, random_state=42)\n",
        "\n",
        "# Train the Logistic Regression model\n",
        "model = LogisticRegression()\n",
        "model.fit(X_train, y_train)\n",
        "\n",
        "# Predict the sentiment of test documents\n",
        "y_pred = model.predict(X_test)\n",
        "\n",
        "# Evaluate the model\n",
        "accuracy = accuracy_score(y_test, y_pred)\n",
        "print(f\"Accuracy: {accuracy:.2f}\")\n",
        "\n",
        "# Function to predict sentiment for a new document\n",
        "def predict_sentiment(text):\n",
        "    features = extract_features(text)\n",
        "    prediction = model.predict([features])\n",
        "    sentiment = label_encoder.inverse_transform(prediction)\n",
        "    return sentiment[0]\n",
        "\n",
        "# Test with a new document\n",
        "new_document = \"I am not satisfied with the service\"\n",
        "print(f\"Sentiment: {predict_sentiment(new_document)}\")\n"
      ]
    },
    {
      "cell_type": "code",
      "source": [
        "import nltk\n",
        "nltk.download('punkt_tab')"
      ],
      "metadata": {
        "colab": {
          "base_uri": "https://localhost:8080/"
        },
        "id": "9SbAVSYoFaGA",
        "outputId": "94c40d4f-46fd-46f6-e42b-fbb5e16f8081"
      },
      "execution_count": 3,
      "outputs": [
        {
          "output_type": "stream",
          "name": "stderr",
          "text": [
            "[nltk_data] Downloading package punkt_tab to /root/nltk_data...\n",
            "[nltk_data]   Unzipping tokenizers/punkt_tab.zip.\n"
          ]
        },
        {
          "output_type": "execute_result",
          "data": {
            "text/plain": [
              "True"
            ]
          },
          "metadata": {},
          "execution_count": 3
        }
      ]
    },
    {
      "cell_type": "code",
      "source": [],
      "metadata": {
        "id": "p7n2LEfiFxEQ"
      },
      "execution_count": null,
      "outputs": []
    }
  ]
}